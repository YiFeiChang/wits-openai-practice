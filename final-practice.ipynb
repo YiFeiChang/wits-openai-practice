{
 "cells": [
  {
   "cell_type": "markdown",
   "id": "2b1e5e99-3966-402a-bddd-b6fcf5e1a5fd",
   "metadata": {},
   "source": [
    "# 結業測驗與認證：基於 RAG 的對談系統"
   ]
  },
  {
   "cell_type": "markdown",
   "id": "f8ffeac1-98ba-4aa2-ac4e-b194058ca9a6",
   "metadata": {},
   "source": [
    "## 背景說明："
   ]
  },
  {
   "cell_type": "markdown",
   "id": "8c9049d7-f1d2-4fe1-98a0-3656b120be09",
   "metadata": {},
   "source": [
    "作為 AI 工程師職位的候選人，請建立一個基於檢索輔助生成（Retrieval-Augmented Generation，RAG）的對談系統。此系統能根據提供的文字及表格來回答問題。以下提供了一個來自城市交通分析數據集的範例表格，您的系統必須能準確地從中檢索資訊並生成回答。"
   ]
  },
  {
   "cell_type": "markdown",
   "id": "8d9d96d4-075a-4c7d-8960-4e53c798aa8b",
   "metadata": {},
   "source": [
    "## 問題："
   ]
  },
  {
   "cell_type": "markdown",
   "id": "cd0eb0e5-d61e-4a00-8ccf-e898c7c50a32",
   "metadata": {},
   "source": [
    "建立一個 RAG 對話系統，能夠處理以下表格資訊，並能準確回答下列問題：\n",
    "- 「請問台北市大安區與中正區的自行車占比率為多少？」"
   ]
  },
  {
   "cell_type": "markdown",
   "id": "90e5bd58-b821-42d3-8cf0-e3c4b8afd049",
   "metadata": {},
   "source": [
    "## 該系統應展示以下能力："
   ]
  },
  {
   "cell_type": "markdown",
   "id": "1cd8ac3d-3240-4ec2-8d23-a8954c98037a",
   "metadata": {},
   "source": [
    "1. 能夠處理文件中的文字與表格內容。\n",
    "2. 基於內容準確提取資訊並生成自然語言的回答。"
   ]
  },
  {
   "cell_type": "markdown",
   "id": "a5f4ec4d-7f9e-4832-bd1d-2707d74c3797",
   "metadata": {},
   "source": [
    "## 交付項目："
   ]
  },
  {
   "cell_type": "markdown",
   "id": "3e0aff67-af1c-4740-81e9-775ef08c498a",
   "metadata": {},
   "source": [
    "- 一個展示您所建系統的 Jupyter Notebook。\n",
    "- 一個展示設計過程與架構的簡報，包括：\n",
    "  - 系統架構\n",
    "  - 設計選擇\n",
    "  - 您如何解決文件和圖像數據的 RAG 整合問題。"
   ]
  },
  {
   "cell_type": "markdown",
   "id": "4a6b54f4-d93a-4d3f-ba6e-1c6e9a3ac5cc",
   "metadata": {},
   "source": [
    "## 各運具類別市佔率"
   ]
  },
  {
   "cell_type": "markdown",
   "id": "fd9241f2-0751-41a9-b3bd-39e764c65326",
   "metadata": {},
   "source": [
    "![各運具類別市佔率](test.jpg)"
   ]
  },
  {
   "cell_type": "markdown",
   "id": "b7f1cfbc-422c-4472-9eef-bf7b8475bdf5",
   "metadata": {},
   "source": [
    "# 實作 - 處理文件中的文字與表格內容  \n",
    "step 1 .   圖轉文 -> 文轉向量 -> 存進向量資料庫  "
   ]
  },
  {
   "cell_type": "markdown",
   "id": "124e792d-4999-4375-93a7-65e4273e5096",
   "metadata": {},
   "source": [
    "## jpg 轉存成 json 檔案"
   ]
  },
  {
   "cell_type": "markdown",
   "id": "fa61557a-f556-4351-bc9c-aa03647b4fd4",
   "metadata": {},
   "source": [
    "### 載入類別"
   ]
  },
  {
   "cell_type": "code",
   "execution_count": null,
   "id": "e2900834-99f7-41d1-a3ef-40b69fc8afd3",
   "metadata": {
    "jupyter": {
     "source_hidden": true
    }
   },
   "outputs": [],
   "source": [
    "from langchain_openai import AzureChatOpenAI\n",
    "from langchain_core.messages import HumanMessage\n",
    "from langchain_core.output_parsers import StrOutputParser\n",
    "import base64\n",
    "import re\n",
    "import os\n",
    "from dotenv import load_dotenv, find_dotenv"
   ]
  },
  {
   "cell_type": "markdown",
   "id": "000949da-5cca-4ac8-be3f-a71b123f5075",
   "metadata": {},
   "source": [
    "### 讀取 env"
   ]
  },
  {
   "cell_type": "code",
   "execution_count": null,
   "id": "47ed30ef-4ba9-4164-97ad-c7e1f5fd6bb6",
   "metadata": {
    "jupyter": {
     "source_hidden": true
    }
   },
   "outputs": [],
   "source": [
    "_ = load_dotenv(find_dotenv())\n",
    "\n",
    "wits_gpt_endpoint = os.getenv(\"WITS_GPT_ENDPOINT\")\n",
    "wits_gpt_apikey = os.getenv(\"WITS_GPT_API_KEY\")\n",
    "wits_gpt_apiversion = os.getenv(\"WITS_GPT_API_VERSION\")\n",
    "wits_gpt_model = os.getenv(\"WITS_GPT_MODEL\")"
   ]
  },
  {
   "cell_type": "markdown",
   "id": "b9aec26c-3789-4fc1-a111-cd7133bd25bd",
   "metadata": {},
   "source": [
    "### 定義 Function"
   ]
  },
  {
   "cell_type": "markdown",
   "id": "11535405-fae8-42c0-9e06-706935fdf651",
   "metadata": {},
   "source": [
    "#### 將 image 轉成 base64"
   ]
  },
  {
   "cell_type": "code",
   "execution_count": null,
   "id": "6951e392-e32a-4055-bcd4-871a1cc095e8",
   "metadata": {
    "jupyter": {
     "source_hidden": true
    }
   },
   "outputs": [],
   "source": [
    "def encode_image_to_base64(image_path):\n",
    "    try:\n",
    "        with open(image_path, \"rb\") as image_file:\n",
    "            return base64.b64encode(image_file.read()).decode(\"utf-8\")\n",
    "    except Exception as e:\n",
    "        print(f\"Error encoding image: {e}\")\n",
    "        return None"
   ]
  },
  {
   "cell_type": "markdown",
   "id": "79cbf9b3-1b56-4f0f-99e2-4d8b7d29539a",
   "metadata": {},
   "source": [
    "#### 建立 image message"
   ]
  },
  {
   "cell_type": "code",
   "execution_count": null,
   "id": "8af75db9-d615-43a1-ad84-5c9484a80126",
   "metadata": {
    "jupyter": {
     "source_hidden": true
    }
   },
   "outputs": [],
   "source": [
    "def create_image_message(base64_image):\n",
    "    return {\n",
    "        \"type\": \"image_url\",\n",
    "        \"image_url\": {\n",
    "            \"url\": f\"data:image/jpeg;base64,{base64_image}\"\n",
    "        }\n",
    "    }"
   ]
  },
  {
   "cell_type": "markdown",
   "id": "b4c52d66-eb68-4d90-a995-125756229787",
   "metadata": {},
   "source": [
    "#### 從 message 抓出 json"
   ]
  },
  {
   "cell_type": "code",
   "execution_count": null,
   "id": "6d6ab894-0e54-4602-9adf-a42b8823eb6c",
   "metadata": {
    "jupyter": {
     "source_hidden": true
    }
   },
   "outputs": [],
   "source": [
    "def message_to_json(json_content):\n",
    "    pattern = r'```json\\s*\\n(.*?)\\n\\s*```'\n",
    "    match = re.search(pattern, json_content, re.DOTALL)\n",
    "    if match:\n",
    "        json_content = match.group(1)\n",
    "        return json_content\n",
    "    else:\n",
    "        print(\"未找到 json block\")"
   ]
  },
  {
   "cell_type": "markdown",
   "id": "8e6f3b91-28ae-40dc-8645-b5fabee48f95",
   "metadata": {},
   "source": [
    "#### 將 image 轉成 json 並存檔"
   ]
  },
  {
   "cell_type": "code",
   "execution_count": null,
   "id": "9ccbf4bf-ae2f-4d73-bd59-cdd2c0245eb3",
   "metadata": {
    "jupyter": {
     "source_hidden": true
    }
   },
   "outputs": [],
   "source": [
    "def image_save_to_json(image_path):\n",
    "    llm = AzureChatOpenAI(\n",
    "        azure_endpoint=wits_gpt_endpoint,\n",
    "        openai_api_key=wits_gpt_apikey,\n",
    "        deployment_name=wits_gpt_model,\n",
    "        openai_api_version=wits_gpt_apiversion,\n",
    "        temperature=0\n",
    "    )\n",
    "    if not os.path.exists(image_path):\n",
    "        print(f\"Error: Image file not found at {image_path}.\")\n",
    "        return\n",
    "    base64_image = encode_image_to_base64(image_path)\n",
    "    if not base64_image:\n",
    "        print(\"Error: Failed to encode image\")\n",
    "        return\n",
    "    image_message = create_image_message(base64_image)\n",
    "    messages = [\n",
    "        HumanMessage(\n",
    "            content=[\n",
    "                {\n",
    "                    \"type\": \"text\",\n",
    "                    \"text\": \"\"\"請幫我解析這張圖片中的表格，並轉換為 json 格式。過濾掉 ```\\s*?\\(\\d+?\\)```。\n",
    "                    JSON 格式參考：\n",
    "                    ```\n",
    "                    [\n",
    "                        {\n",
    "                            \"District\": \"大安區\",\n",
    "                            \"綠運輸\": 72.9,\n",
    "                            \"公共運具\": 51.3,\n",
    "                            \"非機動運具\": 21.6,\n",
    "                            \"步行\": 17.7,\n",
    "                            \"自行車\": 3.8,\n",
    "                            \"私人機動運具\": 27.1,\n",
    "                            \"最常公共運具使用率\": 62.1\n",
    "                        },\n",
    "                        ...\n",
    "                    ]\n",
    "                    ```\n",
    "\n",
    "                    輸出放到 json 區塊中：\n",
    "                    ```json\n",
    "                    {json_content}\n",
    "                    ```\n",
    "                    \"\"\"\n",
    "                },\n",
    "                image_message\n",
    "            ]\n",
    "        )\n",
    "    ]\n",
    "\n",
    "    try:\n",
    "        chain = llm | StrOutputParser()\n",
    "        print(\"正在將圖片傳送至 GPT...\")\n",
    "        response = chain.invoke(messages)\n",
    "        json_table = message_to_json(response)\n",
    "        print(\"\\n轉換結果：\")\n",
    "        print(json_table)\n",
    "        output_file = \"output_table.json\"\n",
    "        with open(output_file, \"w\", encoding=\"utf-8\") as file:\n",
    "            file.write(json_table)\n",
    "        print(f\"JSON 表格已保存至 {output_file}\")\n",
    "    except Exception as e:\n",
    "        print(f\"處理過程中發生錯誤: {e}\")"
   ]
  },
  {
   "cell_type": "markdown",
   "id": "33b3ac74-ea2e-4bc1-b27a-2c3da0292adc",
   "metadata": {},
   "source": [
    "### 執行轉換"
   ]
  },
  {
   "cell_type": "code",
   "execution_count": null,
   "id": "467706a7-19f0-4b71-855d-b44ab7f9b05d",
   "metadata": {
    "jupyter": {
     "source_hidden": true
    },
    "scrolled": true
   },
   "outputs": [],
   "source": [
    "image_save_to_json(\"test.jpg\")"
   ]
  },
  {
   "cell_type": "markdown",
   "id": "a8d4b4bd-3384-4156-96d3-2ca928b1998b",
   "metadata": {},
   "source": [
    "## 將 json 檔案存入 VectorStore"
   ]
  },
  {
   "cell_type": "markdown",
   "id": "1b2ca33b-af70-4253-a146-209ff7948bb6",
   "metadata": {},
   "source": [
    "### 讀取 json 檔案\n",
    "https://python.langchain.com/docs/integrations/document_loaders/json/\n",
    "https://python.langchain.com/api_reference/core/vectorstores/langchain_core.vectorstores.in_memory.InMemoryVectorStore.html#langchain_core.vectorstores.in_memory.InMemoryVectorStore"
   ]
  },
  {
   "cell_type": "markdown",
   "id": "0bf1a7c3-d607-4414-8777-84816e2a1f37",
   "metadata": {},
   "source": [
    "#### 安裝 Library"
   ]
  },
  {
   "cell_type": "code",
   "execution_count": null,
   "id": "78990fa3-7cb2-48da-879f-e2e5b37a6bb0",
   "metadata": {
    "jupyter": {
     "source_hidden": true
    },
    "scrolled": true
   },
   "outputs": [],
   "source": [
    "! pip install langchain_community jq langchain-openai langchain-core"
   ]
  },
  {
   "cell_type": "markdown",
   "id": "1ca5f75b-1972-424e-a5d8-841d5c99db8d",
   "metadata": {},
   "source": [
    "#### 載入類別"
   ]
  },
  {
   "cell_type": "code",
   "execution_count": 1,
   "id": "8bdbe8a8-0be7-442b-b163-1546f9571d3c",
   "metadata": {
    "jupyter": {
     "source_hidden": true
    }
   },
   "outputs": [],
   "source": [
    "import os, json\n",
    "from dotenv import load_dotenv, find_dotenv\n",
    "from langchain_community.document_loaders import JSONLoader\n",
    "from langchain_openai import AzureOpenAIEmbeddings\n",
    "from langchain_core.vectorstores import InMemoryVectorStore"
   ]
  },
  {
   "cell_type": "markdown",
   "id": "cb312c2c-2a92-4450-b8e5-a15cff088b61",
   "metadata": {},
   "source": [
    "#### 讀取 env"
   ]
  },
  {
   "cell_type": "code",
   "execution_count": 2,
   "id": "646d4733-b618-4682-85dc-c615ccb520b8",
   "metadata": {
    "jupyter": {
     "source_hidden": true
    }
   },
   "outputs": [],
   "source": [
    "_ = load_dotenv(find_dotenv())\n",
    "\n",
    "wits_gpt_endpoint = os.getenv(\"WITS_GPT_ENDPOINT\")\n",
    "wits_gpt_apikey = os.getenv(\"WITS_GPT_API_KEY\")\n",
    "wits_gpt_apiversion = os.getenv(\"WITS_GPT_API_VERSION\")\n",
    "wits_gpt_model = os.getenv(\"WITS_GPT_MODEL\")\n",
    "\n",
    "wits_embedding_endpoint = os.getenv(\"WITS_EMBEDDING_ENDPOINT\")\n",
    "wits_embedding_apikey = os.getenv(\"WITS_EMBEDDING_API_KEY\")\n",
    "wits_embedding_apiversion = os.getenv(\"WITS_EMBEDDING_API_VERSION\")\n",
    "wits_embedding_model = os.getenv(\"WITS_EMBEDDING_MODEL\")"
   ]
  },
  {
   "cell_type": "markdown",
   "id": "1562537a-6e22-40d6-8a9e-5837bf735f25",
   "metadata": {},
   "source": [
    "#### 定義 function"
   ]
  },
  {
   "cell_type": "markdown",
   "id": "e32122aa-5589-4cee-862f-48d84e3d6b0b",
   "metadata": {},
   "source": [
    "##### 初始化 JSONLoader"
   ]
  },
  {
   "cell_type": "code",
   "execution_count": 3,
   "id": "b5c5f459-aadb-46cd-bee5-53f0878b207f",
   "metadata": {
    "jupyter": {
     "source_hidden": true
    }
   },
   "outputs": [],
   "source": [
    "def init_jsonloader(json_path):\n",
    "    def metadata_func(record: dict, metadata: dict) -> dict:\n",
    "        metadata = record\n",
    "        return metadata\n",
    "        \n",
    "    return JSONLoader(\n",
    "        file_path=json_path,\n",
    "        jq_schema='.[]',\n",
    "        content_key='.District',\n",
    "        is_content_key_jq_parsable=True,\n",
    "        text_content=False,\n",
    "        metadata_func=metadata_func\n",
    "    )"
   ]
  },
  {
   "cell_type": "markdown",
   "id": "ce4f15c5-6e20-4a9f-805f-39a4212d12cf",
   "metadata": {},
   "source": [
    "##### 初始化 Embeddings"
   ]
  },
  {
   "cell_type": "code",
   "execution_count": 4,
   "id": "f66846b1-53e7-4275-85b0-88fc4315554e",
   "metadata": {
    "jupyter": {
     "source_hidden": true
    }
   },
   "outputs": [],
   "source": [
    "def init_embeddings():\n",
    "    return AzureOpenAIEmbeddings(\n",
    "        azure_endpoint=wits_embedding_endpoint,\n",
    "        azure_deployment=wits_embedding_model,\n",
    "        openai_api_version=wits_embedding_apiversion,\n",
    "        api_key=wits_embedding_apikey\n",
    "    )"
   ]
  },
  {
   "cell_type": "markdown",
   "id": "deb0f792-75fe-4843-a66f-2244a7add7cc",
   "metadata": {},
   "source": [
    "##### 初始化 InMemoryVectorStore"
   ]
  },
  {
   "cell_type": "code",
   "execution_count": 5,
   "id": "4430130c-27bc-4e53-a031-b65d602a7b88",
   "metadata": {
    "jupyter": {
     "source_hidden": true
    }
   },
   "outputs": [],
   "source": [
    "def init_vectorstore(embeddings):\n",
    "    return InMemoryVectorStore(embeddings)"
   ]
  },
  {
   "cell_type": "markdown",
   "id": "917e0ef1-513a-44ae-9110-78a859b97597",
   "metadata": {},
   "source": [
    "#### 執行載入 JSON 並存入 VectorStore"
   ]
  },
  {
   "cell_type": "code",
   "execution_count": 6,
   "id": "54a9dc34-144d-4b4e-af83-44cc2bbdac6e",
   "metadata": {
    "collapsed": true,
    "jupyter": {
     "outputs_hidden": true,
     "source_hidden": true
    },
    "scrolled": true
   },
   "outputs": [
    {
     "data": {
      "text/plain": [
       "['108a5eee-65a9-49ee-ba85-4cd792eb1d9c',\n",
       " '3959bab4-da41-4557-a130-8ae42891764b',\n",
       " '66255758-5858-4a24-97cc-0a12f9402819',\n",
       " '7a658937-275b-4952-81e5-c913b7d0ad2b',\n",
       " '426d118e-38e9-4404-89d1-85ab810c39d6',\n",
       " 'ac63ea41-8e86-41d5-9bca-eb691ef774ca',\n",
       " '4be66f99-a4e8-4519-b144-5a4c64d041d8',\n",
       " '5641327b-5d83-45a6-89a4-342641d2939f',\n",
       " 'e4d57bd2-f842-48fa-84c9-464eed8557da',\n",
       " '00a157fc-c833-4647-aad2-fd7c72c0640e',\n",
       " '2953bfce-9e4a-43a3-b950-e9f5d1cc1f72',\n",
       " 'a52b9027-4db3-4198-81fa-f848e48664f6',\n",
       " '788544dc-145a-4ea8-a257-5cfe7a21237b']"
      ]
     },
     "execution_count": 6,
     "metadata": {},
     "output_type": "execute_result"
    }
   ],
   "source": [
    "loader = init_jsonloader('output_table.json')\n",
    "documents = loader.load()\n",
    "embeddings = init_embeddings()\n",
    "vector_store = init_vectorstore(embeddings)\n",
    "vector_store.add_documents(documents)"
   ]
  },
  {
   "cell_type": "markdown",
   "id": "74733887-f450-4941-8cb9-59d152b68dcc",
   "metadata": {},
   "source": [
    "# Chat Bot"
   ]
  },
  {
   "cell_type": "markdown",
   "id": "63fab0b1-7a55-4a95-ac82-b16e0d24d5c3",
   "metadata": {},
   "source": [
    "step 2 . user 打的問題 -> 轉向量 -> 向量資料庫比對抓出最接近的資料 -> 塞prompt 給語言模型 -> 回應給user"
   ]
  },
  {
   "cell_type": "markdown",
   "id": "28297851-85f7-4cfa-9978-1060e589dd64",
   "metadata": {},
   "source": [
    "## 安裝 Library"
   ]
  },
  {
   "cell_type": "code",
   "execution_count": null,
   "id": "d1ba5882-875a-488e-81f3-e8683690ab3f",
   "metadata": {
    "jupyter": {
     "source_hidden": true
    }
   },
   "outputs": [],
   "source": [
    "! pip install langchain-core langgraph>0.2.27 langchain-openai"
   ]
  },
  {
   "cell_type": "markdown",
   "id": "dcfdf1cc-bbbe-46c2-bc63-089e8972cea9",
   "metadata": {},
   "source": [
    "## 載入類別"
   ]
  },
  {
   "cell_type": "code",
   "execution_count": 7,
   "id": "e1b1e33b-05d4-4890-ac80-eaa45fef7047",
   "metadata": {
    "jupyter": {
     "source_hidden": true
    }
   },
   "outputs": [],
   "source": [
    "import os\n",
    "from dotenv import load_dotenv, find_dotenv\n",
    "from langchain_openai import AzureChatOpenAI\n",
    "from langchain_core.prompts import ChatPromptTemplate, MessagesPlaceholder\n",
    "from langchain_core.prompts.chat import ChatPromptTemplate\n",
    "from langchain_core.messages import BaseMessage, SystemMessage, HumanMessage, AIMessage, ToolMessage, trim_messages, filter_messages\n",
    "from langgraph.checkpoint.memory import MemorySaver\n",
    "from langchain.tools import tool\n",
    "from langgraph.prebuilt import create_react_agent\n",
    "from IPython.display import Image, display\n",
    "from langchain_core.documents import Document\n",
    "from typing_extensions import List, TypedDict, Dict\n",
    "from langgraph.graph import START, END, MessagesState, StateGraph\n",
    "from langgraph.prebuilt import ToolNode, tools_condition"
   ]
  },
  {
   "cell_type": "markdown",
   "id": "15ada8cd-1a46-4bbe-88c3-60dcb089bb11",
   "metadata": {},
   "source": [
    "## 讀取 env"
   ]
  },
  {
   "cell_type": "code",
   "execution_count": 8,
   "id": "f797635c-a552-4853-b19a-c1418d2d5623",
   "metadata": {
    "jupyter": {
     "source_hidden": true
    }
   },
   "outputs": [],
   "source": [
    "_ = load_dotenv(find_dotenv())\n",
    "\n",
    "wits_gpt_endpoint = os.getenv(\"WITS_GPT_ENDPOINT\")\n",
    "wits_gpt_apikey = os.getenv(\"WITS_GPT_API_KEY\")\n",
    "wits_gpt_apiversion = os.getenv(\"WITS_GPT_API_VERSION\")\n",
    "wits_gpt_model = os.getenv(\"WITS_GPT_MODEL\")\n",
    "\n",
    "wits_embedding_endpoint = os.getenv(\"WITS_EMBEDDING_ENDPOINT\")\n",
    "wits_embedding_apikey = os.getenv(\"WITS_EMBEDDING_API_KEY\")\n",
    "wits_embedding_apiversion = os.getenv(\"WITS_EMBEDDING_API_VERSION\")\n",
    "wits_embedding_model = os.getenv(\"WITS_EMBEDDING_MODEL\")"
   ]
  },
  {
   "cell_type": "markdown",
   "id": "e3be3e62-dcb0-4cce-8d27-a7e8ae85e0a9",
   "metadata": {},
   "source": [
    "## 定義 function"
   ]
  },
  {
   "cell_type": "markdown",
   "id": "0686635c-d323-42e3-b8ce-fc79ed7af810",
   "metadata": {},
   "source": [
    "### 初始化 LLM"
   ]
  },
  {
   "cell_type": "code",
   "execution_count": 9,
   "id": "52bcc976-3578-4fd2-b9bd-5027656edd70",
   "metadata": {
    "jupyter": {
     "source_hidden": true
    }
   },
   "outputs": [],
   "source": [
    "def init_llm():\n",
    "    return AzureChatOpenAI(\n",
    "        azure_endpoint=wits_gpt_endpoint,\n",
    "        openai_api_key=wits_gpt_apikey,\n",
    "        api_version=wits_gpt_apiversion,\n",
    "        azure_deployment=wits_gpt_model\n",
    "    )"
   ]
  },
  {
   "cell_type": "markdown",
   "id": "de102af1-3bff-425d-a6de-0ad80f2f2958",
   "metadata": {},
   "source": [
    "### 資料查詢工具"
   ]
  },
  {
   "cell_type": "code",
   "execution_count": 10,
   "id": "a4d2b86b-d633-41c1-9ef4-3eb65c10ea79",
   "metadata": {
    "jupyter": {
     "source_hidden": true
    }
   },
   "outputs": [],
   "source": [
    "@tool\n",
    "def query_market_share(district: str):\n",
    "    \"\"\"\n",
    "    這個工具會查詢臺北行政區的運具類別市占率。\n",
    "    Args:\n",
    "        district (str): 臺北行政區\n",
    "    Returns:\n",
    "        List[Document]: 運具類別市占率\n",
    "    \"\"\"\n",
    "    print(f' > tool: query_or_respond_node ({district})')\n",
    "    result = vector_store.similarity_search(district, k=1)\n",
    "    return result"
   ]
  },
  {
   "cell_type": "markdown",
   "id": "8cb7ed37-ffc4-4c68-8cfe-58204b432e80",
   "metadata": {},
   "source": [
    "### 初始化 Graph"
   ]
  },
  {
   "cell_type": "markdown",
   "id": "ef7a0906-e68f-4a15-8fa2-a6eae2e95dbe",
   "metadata": {},
   "source": [
    "#### 定義節點"
   ]
  },
  {
   "cell_type": "markdown",
   "id": "2f8ae6e3-2ef5-40be-965f-9f4aaed4bad0",
   "metadata": {},
   "source": [
    "##### query_or_respond"
   ]
  },
  {
   "cell_type": "code",
   "execution_count": 11,
   "id": "f671f503-43c0-4104-8d2b-7901c1e710f5",
   "metadata": {
    "jupyter": {
     "source_hidden": true
    }
   },
   "outputs": [],
   "source": [
    "def query_or_respond_node(state: MessagesState):\n",
    "    \"\"\"產生用於檢索或回應的工具呼叫。\"\"\"\n",
    "    print(' > query_or_respond_node')\n",
    "    trimmed_messages = trim_messages(\n",
    "        state[\"messages\"],\n",
    "        strategy=\"last\",\n",
    "        token_counter=len,\n",
    "        max_tokens=10,\n",
    "        start_on=\"human\",\n",
    "        end_on=(\"human\", \"tool\"),\n",
    "        include_system=True,\n",
    "    )\n",
    "    prompt = ChatPromptTemplate.from_messages(\n",
    "        [\n",
    "            SystemMessage(\"你是助手。最多使用五個句子回答，以保持回答簡潔。\"),\n",
    "            MessagesPlaceholder(variable_name=\"messages\")\n",
    "        ]\n",
    "    )\n",
    "    llm = init_llm()\n",
    "    llm_with_tools = llm.bind_tools([query_market_share])\n",
    "    chain = prompt | llm_with_tools\n",
    "    response = chain.invoke(trimmed_messages)\n",
    "    return {\"messages\": [response]}"
   ]
  },
  {
   "cell_type": "markdown",
   "id": "22de22d9-9411-48b9-89a2-f8a990c4e4bb",
   "metadata": {},
   "source": [
    "##### generate"
   ]
  },
  {
   "cell_type": "code",
   "execution_count": 12,
   "id": "9fecf930-74b2-442c-a632-276c21c9236f",
   "metadata": {
    "jupyter": {
     "source_hidden": true
    }
   },
   "outputs": [],
   "source": [
    "def generate_node(state: MessagesState):\n",
    "    \"\"\"生成答案\"\"\"\n",
    "    print(f' > generate_node')\n",
    "    llm = init_llm()\n",
    "    # 取得生成的 ToolMessages\n",
    "    recent_tool_messages = []\n",
    "    for message in reversed(state[\"messages\"]):\n",
    "        if message.type == \"tool\":\n",
    "            recent_tool_messages.append(message)\n",
    "        else:\n",
    "            break\n",
    "    tool_messages = recent_tool_messages[::-1]\n",
    "\n",
    "    # 格式化為 Prompt\n",
    "    docs_content = \"\\n\\n\".join(doc.content for doc in tool_messages)\n",
    "    system_message_content = f'''\n",
    "    你是負責問答任務的助手。使用以下檢索到的上下文來回答問題。如果你不知道答案，就說你不知道。最多使用五個句子回答，以保持回答簡潔。\n",
    "\n",
    "    {docs_content}\n",
    "    '''\n",
    "    conversation_messages = [\n",
    "        message\n",
    "        for message in state[\"messages\"]\n",
    "        if message.type in (\"human\", \"system\")\n",
    "        or (message.type == \"ai\" and not message.tool_calls)\n",
    "    ]\n",
    "    prompt = [SystemMessage(system_message_content)] + conversation_messages\n",
    "\n",
    "    # Run\n",
    "    response = llm.invoke(prompt)\n",
    "    return {\"messages\": [response]}"
   ]
  },
  {
   "cell_type": "markdown",
   "id": "5c602f3a-72c4-471a-a856-4f467f699781",
   "metadata": {},
   "source": [
    "#### 定義初始化"
   ]
  },
  {
   "cell_type": "code",
   "execution_count": 13,
   "id": "4b7bb00e-1750-4fc2-acf9-4b04a2c0852c",
   "metadata": {
    "jupyter": {
     "source_hidden": true
    }
   },
   "outputs": [],
   "source": [
    "def init_state_graph():\n",
    "    tools = ToolNode([query_market_share])\n",
    "    graph = StateGraph(state_schema=MessagesState)\n",
    "    graph.set_entry_point('query_or_respond')\n",
    "    graph.add_conditional_edges(\n",
    "        'query_or_respond',\n",
    "        tools_condition,\n",
    "        {END: END, 'tools': 'tools'},\n",
    "    )\n",
    "    graph.add_edge('tools', 'generate')\n",
    "    graph.add_edge('generate', END)\n",
    "    graph.add_node('query_or_respond', query_or_respond_node)\n",
    "    graph.add_node('tools', tools)\n",
    "    graph.add_node('generate', generate_node)\n",
    "    memory = MemorySaver()\n",
    "    return graph.compile(checkpointer=memory)"
   ]
  },
  {
   "cell_type": "markdown",
   "id": "4c65fbc4-b2ea-454f-bd9a-4b560a34dfa3",
   "metadata": {},
   "source": [
    "## 開始聊天  "
   ]
  },
  {
   "cell_type": "markdown",
   "id": "cb2e35c5-0445-4c3e-9628-1e42491f078b",
   "metadata": {},
   "source": [
    "### 使用 StateGraph"
   ]
  },
  {
   "cell_type": "code",
   "execution_count": 14,
   "id": "388b63df-641c-4905-9169-ad1bc3aac843",
   "metadata": {
    "jupyter": {
     "source_hidden": true
    },
    "scrolled": true
   },
   "outputs": [
    {
     "data": {
      "image/png": "[encoded data removed]",
      "text/plain": [
       "<IPython.core.display.Image object>"
      ]
     },
     "metadata": {},
     "output_type": "display_data"
    }
   ],
   "source": [
    "graph = init_state_graph()\n",
    "config = {\"configurable\": {\"thread_id\": \"test_thread\"}}\n",
    "\n",
    "display(Image(graph.get_graph().draw_mermaid_png()))"
   ]
  },
  {
   "cell_type": "markdown",
   "id": "c9242932-6501-4a73-91e4-7a2a94606077",
   "metadata": {},
   "source": [
    "#### 詢問助手能做什麼"
   ]
  },
  {
   "cell_type": "code",
   "execution_count": 15,
   "id": "72a438dd-4349-4645-9cb0-a588d9dfb95f",
   "metadata": {
    "jupyter": {
     "source_hidden": true
    }
   },
   "outputs": [
    {
     "name": "stdout",
     "output_type": "stream",
     "text": [
      " > query_or_respond_node\n",
      "==================================\u001b[1m Ai Message \u001b[0m==================================\n",
      "\n",
      "我可以提供資訊、回答問題、協助解決問題，以及查詢像「臺北行政區的運具類市場占率」這類特定的資料。如果有需要幫助，請告訴我！\n"
     ]
    }
   ],
   "source": [
    "query = \"你能做什麼呢？\"\n",
    "input_messages = [HumanMessage(query)]\n",
    "output = graph.invoke({\"messages\": input_messages}, config)\n",
    "output['messages'][-1].pretty_print()"
   ]
  },
  {
   "cell_type": "markdown",
   "id": "e86f1acb-e62c-4d3c-aed1-07eeb3ce8a2c",
   "metadata": {},
   "source": [
    "#### 詢問大安步行及大同自行車的市佔率"
   ]
  },
  {
   "cell_type": "code",
   "execution_count": 16,
   "id": "2fc385d1-ec81-4826-9980-85fd9a098cd9",
   "metadata": {
    "jupyter": {
     "source_hidden": true
    }
   },
   "outputs": [
    {
     "name": "stdout",
     "output_type": "stream",
     "text": [
      " > query_or_respond_node\n",
      " > tool: query_or_respond_node (大安) > tool: query_or_respond_node (大同)\n",
      "\n",
      " > generate_node\n",
      "==================================\u001b[1m Ai Message \u001b[0m==================================\n",
      "\n",
      "根據資料：\n",
      "\n",
      "- 大安區的步行市佔率為 **17.7%**。\n",
      "- 大同區的自行車市佔率為 **3.5%**。\n"
     ]
    }
   ],
   "source": [
    "query = \"查詢大安步行及大同自行車的市佔率。\"\n",
    "input_messages = [HumanMessage(query)]\n",
    "output = graph.invoke({\"messages\": input_messages}, config)\n",
    "output['messages'][-1].pretty_print()"
   ]
  },
  {
   "cell_type": "markdown",
   "id": "2ebe84f8-67aa-4e7c-b216-3a8037a61007",
   "metadata": {},
   "source": [
    "#### 詢問松山跟信義的步行市佔率加總"
   ]
  },
  {
   "cell_type": "code",
   "execution_count": 17,
   "id": "f6d4ee08-51de-406e-923e-c76557fc8b27",
   "metadata": {
    "jupyter": {
     "source_hidden": true
    }
   },
   "outputs": [
    {
     "name": "stdout",
     "output_type": "stream",
     "text": [
      " > query_or_respond_node\n",
      " > tool: query_or_respond_node (松山)\n",
      " > tool: query_or_respond_node (信義)\n",
      " > generate_node\n",
      "==================================\u001b[1m Ai Message \u001b[0m==================================\n",
      "\n",
      "松山區的步行市佔率為 **17.6%**，信義區的步行市佔率為 **17.1%**。  \n",
      "加總後為 **34.7%**。\n"
     ]
    }
   ],
   "source": [
    "query = \"松山跟信義的步行市佔率加總是多少？\"\n",
    "input_messages = [HumanMessage(query)]\n",
    "output = graph.invoke({\"messages\": input_messages}, config)\n",
    "output['messages'][-1].pretty_print()"
   ]
  },
  {
   "cell_type": "markdown",
   "id": "afc152e2-f276-400b-83c4-4c151dc2c658",
   "metadata": {},
   "source": [
    "#### 詢問我說過的話"
   ]
  },
  {
   "cell_type": "code",
   "execution_count": 18,
   "id": "46c0571b-a188-4726-87d4-22d1255dd05a",
   "metadata": {
    "jupyter": {
     "source_hidden": true
    },
    "scrolled": true
   },
   "outputs": [
    {
     "name": "stdout",
     "output_type": "stream",
     "text": [
      " > query_or_respond_node\n",
      "==================================\u001b[1m Ai Message \u001b[0m==================================\n",
      "\n",
      "1. 松山跟信義的步行市佔率加總是多少？  \n",
      "2. 列出我說過的話。\n"
     ]
    }
   ],
   "source": [
    "query = \"列出我說過的話。\"\n",
    "input_messages = [HumanMessage(query)]\n",
    "output = graph.invoke({\"messages\": input_messages}, config)\n",
    "output['messages'][-1].pretty_print()"
   ]
  },
  {
   "cell_type": "markdown",
   "id": "8d2f90a1-6cb2-474c-b91c-35204f7539c8",
   "metadata": {},
   "source": [
    "### 使用 create_react_agent"
   ]
  },
  {
   "cell_type": "code",
   "execution_count": 21,
   "id": "25c56edf-784c-42eb-8c69-c89515124a36",
   "metadata": {
    "jupyter": {
     "source_hidden": true
    }
   },
   "outputs": [
    {
     "data": {
      "image/png": "[encoded data removed]",
      "text/plain": [
       "<IPython.core.display.Image object>"
      ]
     },
     "metadata": {},
     "output_type": "display_data"
    }
   ],
   "source": [
    "prompt = ChatPromptTemplate.from_messages(\n",
    "    [\n",
    "        SystemMessage(\"你是不愛說話的助手。最多使用五個句子回答，能夠只說答案就只說答案，以保持回答簡潔。\"),\n",
    "        MessagesPlaceholder(variable_name=\"messages\")\n",
    "    ]\n",
    ")\n",
    "trimmer = trim_messages(\n",
    "    strategy=\"last\",\n",
    "    token_counter=len,\n",
    "    max_tokens=15,\n",
    "    start_on=\"human\",\n",
    "    end_on=(\"human\", \"tool\"),\n",
    "    include_system=True,\n",
    ")\n",
    "llm = init_llm()\n",
    "memory = MemorySaver()\n",
    "agent_executor = create_react_agent(llm, [query_market_share],\n",
    "    checkpointer=memory,\n",
    "    state_modifier=prompt | trimmer\n",
    ")\n",
    "display(Image(agent_executor.get_graph().draw_mermaid_png()))"
   ]
  },
  {
   "cell_type": "markdown",
   "id": "137b8115-23a0-4335-834c-a26bc3fefa6e",
   "metadata": {},
   "source": [
    "#### 詢問助手能做什麼"
   ]
  },
  {
   "cell_type": "code",
   "execution_count": 22,
   "id": "1d003153-1841-4ee2-bab6-d33681018c0b",
   "metadata": {
    "jupyter": {
     "source_hidden": true
    }
   },
   "outputs": [
    {
     "name": "stdout",
     "output_type": "stream",
     "text": [
      "==================================\u001b[1m Ai Message \u001b[0m==================================\n",
      "\n",
      "我能快速查詢臺北各行政區的運具類別市占率，提供簡潔答案。\n"
     ]
    }
   ],
   "source": [
    "query = \"你能做什麼呢？\"\n",
    "input_messages = [HumanMessage(query)]\n",
    "output = agent_executor.invoke({\"messages\": input_messages}, config)\n",
    "output['messages'][-1].pretty_print()"
   ]
  },
  {
   "cell_type": "markdown",
   "id": "ac87f996-2b9a-40a7-8646-462a3ef5662e",
   "metadata": {},
   "source": [
    "#### 詢問各區的步行市佔率加總"
   ]
  },
  {
   "cell_type": "code",
   "execution_count": 23,
   "id": "4a671240-2f78-4f9a-96af-d4306cc6287d",
   "metadata": {},
   "outputs": [
    {
     "name": "stdout",
     "output_type": "stream",
     "text": [
      " > tool: query_or_respond_node (中山區)\n",
      " > tool: query_or_respond_node (信義區)\n",
      "==================================\u001b[1m Ai Message \u001b[0m==================================\n",
      "\n",
      "中山區的步行市佔率為12.7%，信義區為17.1%，加總為29.8%。\n",
      " > tool: query_or_respond_node (松山區) > tool: query_or_respond_node (文山區)\n",
      "\n",
      "==================================\u001b[1m Ai Message \u001b[0m==================================\n",
      "\n",
      "松山區的步行市佔率為17.6%，文山區為12.7%，加總為30.3%。\n",
      " > tool: query_or_respond_node (北投區)\n",
      " > tool: query_or_respond_node (南港區)\n",
      "==================================\u001b[1m Ai Message \u001b[0m==================================\n",
      "\n",
      "北投區的步行市佔率為12.1%，南港區為11.2%，加總為23.3%。\n",
      " > tool: query_or_respond_node (士林區)\n",
      " > tool: query_or_respond_node (大同區)\n",
      "==================================\u001b[1m Ai Message \u001b[0m==================================\n",
      "\n",
      "士林區的步行市佔率為16.6%，大同區為18.5%，加總為35.1%。\n",
      " > tool: query_or_respond_node (萬華區)\n",
      " > tool: query_or_respond_node (內湖區)\n",
      "==================================\u001b[1m Ai Message \u001b[0m==================================\n",
      "\n",
      "萬華區的步行市佔率為10.3%，內湖區為17.9%，加總為28.2%。\n"
     ]
    }
   ],
   "source": [
    "for districts in [['中山區', '信義區'], ['松山區', '文山區'], ['北投區', '南港區'], ['士林區', '大同區'], ['萬華區', '內湖區']]:\n",
    "    query = f'{districts[0]}跟{districts[1]}的步行市佔率加總是多少？'\n",
    "    input_messages = [HumanMessage(query)]\n",
    "    output = agent_executor.invoke({\"messages\": input_messages}, config)\n",
    "    output['messages'][-1].pretty_print()"
   ]
  },
  {
   "cell_type": "markdown",
   "id": "550a4698-b994-449b-b3bb-1b5b698d2248",
   "metadata": {},
   "source": [
    "#### 詢問我說過的話"
   ]
  },
  {
   "cell_type": "code",
   "execution_count": 24,
   "id": "b2e2a343-2c16-4785-af9c-be8a72d9edbc",
   "metadata": {
    "scrolled": true
   },
   "outputs": [
    {
     "name": "stdout",
     "output_type": "stream",
     "text": [
      "==================================\u001b[1m Ai Message \u001b[0m==================================\n",
      "\n",
      "士林區、大同區、萬華區、內湖區。\n"
     ]
    }
   ],
   "source": [
    "query = \"我詢問過那些行政區的資料？\"\n",
    "input_messages = [HumanMessage(query)]\n",
    "output = agent_executor.invoke({\"messages\": input_messages}, config)\n",
    "output['messages'][-1].pretty_print()"
   ]
  },
  {
   "cell_type": "code",
   "execution_count": null,
   "id": "74bd63c6-707d-4836-bc3c-834e5aca1478",
   "metadata": {},
   "outputs": [],
   "source": []
  }
 ],
 "metadata": {
  "kernelspec": {
   "display_name": "Python 3 (ipykernel)",
   "language": "python",
   "name": "python3"
  },
  "language_info": {
   "codemirror_mode": {
    "name": "ipython",
    "version": 3
   },
   "file_extension": ".py",
   "mimetype": "text/x-python",
   "name": "python",
   "nbconvert_exporter": "python",
   "pygments_lexer": "ipython3",
   "version": "3.9.21"
  }
 },
 "nbformat": 4,
 "nbformat_minor": 5
}
