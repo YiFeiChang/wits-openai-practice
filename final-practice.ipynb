{
 "cells": [
  {
   "cell_type": "markdown",
   "id": "2b1e5e99-3966-402a-bddd-b6fcf5e1a5fd",
   "metadata": {},
   "source": [
    "# 結業測驗與認證：基於 RAG 的對談系統"
   ]
  },
  {
   "cell_type": "markdown",
   "id": "f8ffeac1-98ba-4aa2-ac4e-b194058ca9a6",
   "metadata": {},
   "source": [
    "## 背景說明："
   ]
  },
  {
   "cell_type": "markdown",
   "id": "8c9049d7-f1d2-4fe1-98a0-3656b120be09",
   "metadata": {},
   "source": [
    "作為 AI 工程師職位的候選人，請建立一個基於檢索輔助生成（Retrieval-Augmented Generation，RAG）的對談系統。此系統能根據提供的文字及表格來回答問題。以下提供了一個來自城市交通分析數據集的範例表格，您的系統必須能準確地從中檢索資訊並生成回答。"
   ]
  },
  {
   "cell_type": "markdown",
   "id": "8d9d96d4-075a-4c7d-8960-4e53c798aa8b",
   "metadata": {},
   "source": [
    "## 問題："
   ]
  },
  {
   "cell_type": "markdown",
   "id": "cd0eb0e5-d61e-4a00-8ccf-e898c7c50a32",
   "metadata": {},
   "source": [
    "建立一個 RAG 對話系統，能夠處理以下表格資訊，並能準確回答下列問題：\n",
    "- 「請問台北市大安區與中正區的自行車占比率為多少？」"
   ]
  },
  {
   "cell_type": "markdown",
   "id": "90e5bd58-b821-42d3-8cf0-e3c4b8afd049",
   "metadata": {},
   "source": [
    "## 該系統應展示以下能力："
   ]
  },
  {
   "cell_type": "markdown",
   "id": "1cd8ac3d-3240-4ec2-8d23-a8954c98037a",
   "metadata": {},
   "source": [
    "1. 能夠處理文件中的文字與表格內容。\n",
    "2. 基於內容準確提取資訊並生成自然語言的回答。"
   ]
  },
  {
   "cell_type": "markdown",
   "id": "a5f4ec4d-7f9e-4832-bd1d-2707d74c3797",
   "metadata": {},
   "source": [
    "## 交付項目："
   ]
  },
  {
   "cell_type": "markdown",
   "id": "3e0aff67-af1c-4740-81e9-775ef08c498a",
   "metadata": {},
   "source": [
    "- 一個展示您所建系統的 Jupyter Notebook。\n",
    "- 一個展示設計過程與架構的簡報，包括：\n",
    "  - 系統架構\n",
    "  - 設計選擇\n",
    "- 您如何解決文件和圖像數據的 RAG 整合問題。"
   ]
  },
  {
   "cell_type": "markdown",
   "id": "4a6b54f4-d93a-4d3f-ba6e-1c6e9a3ac5cc",
   "metadata": {},
   "source": [
    "## 各運具類別市佔率"
   ]
  },
  {
   "cell_type": "markdown",
   "id": "fd9241f2-0751-41a9-b3bd-39e764c65326",
   "metadata": {},
   "source": [
    "![各運具類別市佔率](test.jpg)"
   ]
  },
  {
   "cell_type": "markdown",
   "id": "b7f1cfbc-422c-4472-9eef-bf7b8475bdf5",
   "metadata": {},
   "source": [
    "# 實作 - 處理文件中的文字與表格內容  \n",
    "step 1 .   圖轉文 -> 文轉向量 -> 存進向量資料庫  "
   ]
  },
  {
   "cell_type": "markdown",
   "id": "124e792d-4999-4375-93a7-65e4273e5096",
   "metadata": {},
   "source": [
    "## jpg 轉存成 json 檔案"
   ]
  },
  {
   "cell_type": "markdown",
   "id": "fa61557a-f556-4351-bc9c-aa03647b4fd4",
   "metadata": {},
   "source": [
    "### 載入類別"
   ]
  },
  {
   "cell_type": "code",
   "execution_count": 1,
   "id": "e2900834-99f7-41d1-a3ef-40b69fc8afd3",
   "metadata": {
    "jupyter": {
     "source_hidden": true
    }
   },
   "outputs": [],
   "source": [
    "from langchain_openai import AzureChatOpenAI\n",
    "from langchain_core.messages import HumanMessage\n",
    "from langchain_core.output_parsers import StrOutputParser\n",
    "import base64\n",
    "import re\n",
    "import os\n",
    "from dotenv import load_dotenv, find_dotenv"
   ]
  },
  {
   "cell_type": "markdown",
   "id": "000949da-5cca-4ac8-be3f-a71b123f5075",
   "metadata": {},
   "source": [
    "### 讀取 env"
   ]
  },
  {
   "cell_type": "code",
   "execution_count": 2,
   "id": "47ed30ef-4ba9-4164-97ad-c7e1f5fd6bb6",
   "metadata": {
    "jupyter": {
     "source_hidden": true
    }
   },
   "outputs": [],
   "source": [
    "_ = load_dotenv(find_dotenv())\n",
    "\n",
    "wits_gpt_endpoint = os.getenv(\"WITS_GPT_ENDPOINT\")\n",
    "wits_gpt_apikey = os.getenv(\"WITS_GPT_API_KEY\")\n",
    "wits_gpt_apiversion = os.getenv(\"WITS_GPT_API_VERSION\")\n",
    "wits_gpt_model = os.getenv(\"WITS_GPT_MODEL\")"
   ]
  },
  {
   "cell_type": "markdown",
   "id": "b9aec26c-3789-4fc1-a111-cd7133bd25bd",
   "metadata": {},
   "source": [
    "### 定義 Function"
   ]
  },
  {
   "cell_type": "markdown",
   "id": "11535405-fae8-42c0-9e06-706935fdf651",
   "metadata": {},
   "source": [
    "#### 將 image 轉成 base64"
   ]
  },
  {
   "cell_type": "code",
   "execution_count": 3,
   "id": "6951e392-e32a-4055-bcd4-871a1cc095e8",
   "metadata": {
    "jupyter": {
     "source_hidden": true
    }
   },
   "outputs": [],
   "source": [
    "def encode_image_to_base64(image_path):\n",
    "    try:\n",
    "        with open(image_path, \"rb\") as image_file:\n",
    "            return base64.b64encode(image_file.read()).decode(\"utf-8\")\n",
    "    except Exception as e:\n",
    "        print(f\"Error encoding image: {e}\")\n",
    "        return None"
   ]
  },
  {
   "cell_type": "markdown",
   "id": "79cbf9b3-1b56-4f0f-99e2-4d8b7d29539a",
   "metadata": {},
   "source": [
    "#### 建立 image message"
   ]
  },
  {
   "cell_type": "code",
   "execution_count": 4,
   "id": "8af75db9-d615-43a1-ad84-5c9484a80126",
   "metadata": {
    "jupyter": {
     "source_hidden": true
    }
   },
   "outputs": [],
   "source": [
    "def create_image_message(base64_image):\n",
    "    return {\n",
    "        \"type\": \"image_url\",\n",
    "        \"image_url\": {\n",
    "            \"url\": f\"data:image/jpeg;base64,{base64_image}\"\n",
    "        }\n",
    "    }"
   ]
  },
  {
   "cell_type": "markdown",
   "id": "b4c52d66-eb68-4d90-a995-125756229787",
   "metadata": {},
   "source": [
    "#### 從 message 抓出 json"
   ]
  },
  {
   "cell_type": "code",
   "execution_count": 5,
   "id": "6d6ab894-0e54-4602-9adf-a42b8823eb6c",
   "metadata": {
    "jupyter": {
     "source_hidden": true
    }
   },
   "outputs": [],
   "source": [
    "def message_to_json(json_content):\n",
    "    pattern = r'```json\\s*\\n(.*?)\\n\\s*```'\n",
    "    match = re.search(pattern, json_content, re.DOTALL)\n",
    "    if match:\n",
    "        json_content = match.group(1)\n",
    "        return json_content\n",
    "    else:\n",
    "        print(\"未找到 json block\")"
   ]
  },
  {
   "cell_type": "markdown",
   "id": "8e6f3b91-28ae-40dc-8645-b5fabee48f95",
   "metadata": {},
   "source": [
    "#### 將 image 轉成 json 並存檔"
   ]
  },
  {
   "cell_type": "code",
   "execution_count": 6,
   "id": "9ccbf4bf-ae2f-4d73-bd59-cdd2c0245eb3",
   "metadata": {
    "jupyter": {
     "source_hidden": true
    }
   },
   "outputs": [],
   "source": [
    "def image_save_to_json(image_path):\n",
    "    llm = AzureChatOpenAI(\n",
    "        azure_endpoint=wits_gpt_endpoint,\n",
    "        openai_api_key=wits_gpt_apikey,\n",
    "        deployment_name=wits_gpt_model,\n",
    "        openai_api_version=wits_gpt_apiversion,\n",
    "        temperature=0\n",
    "    )\n",
    "    if not os.path.exists(image_path):\n",
    "        print(f\"Error: Image file not found at {image_path}.\")\n",
    "        return\n",
    "    base64_image = encode_image_to_base64(image_path)\n",
    "    if not base64_image:\n",
    "        print(\"Error: Failed to encode image\")\n",
    "        return\n",
    "    image_message = create_image_message(base64_image)\n",
    "    messages = [\n",
    "        HumanMessage(\n",
    "            content=[\n",
    "                {\n",
    "                    \"type\": \"text\",\n",
    "                    \"text\": \"\"\"請幫我解析這張圖片中的表格，並轉換為 json 格式。過濾掉 ```\\s*?\\(\\d+?\\)```。\n",
    "                    JSON 格式參考：\n",
    "                    ```\n",
    "                    [\n",
    "                        {\n",
    "                            \"District\": \"大安區\",\n",
    "                            \"綠運輸\": 72.9,\n",
    "                            \"公共運具\": 51.3,\n",
    "                            \"非機動運具\": 21.6,\n",
    "                            \"步行\": 17.7,\n",
    "                            \"自行車\": 3.8,\n",
    "                            \"私人機動運具\": 27.1,\n",
    "                            \"最常公共運具使用率\": 62.1\n",
    "                        },\n",
    "                        ...\n",
    "                    ]\n",
    "                    ```\n",
    "\n",
    "                    輸出放到 json 區塊中：\n",
    "                    ```json\n",
    "                    {json_content}\n",
    "                    ```\n",
    "                    \"\"\"\n",
    "                },\n",
    "                image_message\n",
    "            ]\n",
    "        )\n",
    "    ]\n",
    "\n",
    "    try:\n",
    "        chain = llm | StrOutputParser()\n",
    "        print(\"正在將圖片傳送至 GPT...\")\n",
    "        response = chain.invoke(messages)\n",
    "        json_table = message_to_json(response)\n",
    "        print(\"\\n轉換結果：\")\n",
    "        print(json_table)\n",
    "        output_file = \"output_table.json\"\n",
    "        with open(output_file, \"w\", encoding=\"utf-8\") as file:\n",
    "            file.write(json_table)\n",
    "        print(f\"JSON 表格已保存至 {output_file}\")\n",
    "    except Exception as e:\n",
    "        print(f\"處理過程中發生錯誤: {e}\")"
   ]
  },
  {
   "cell_type": "markdown",
   "id": "33b3ac74-ea2e-4bc1-b27a-2c3da0292adc",
   "metadata": {},
   "source": [
    "### 執行轉換"
   ]
  },
  {
   "cell_type": "code",
   "execution_count": 7,
   "id": "467706a7-19f0-4b71-855d-b44ab7f9b05d",
   "metadata": {
    "jupyter": {
     "source_hidden": true
    },
    "scrolled": true
   },
   "outputs": [
    {
     "name": "stdout",
     "output_type": "stream",
     "text": [
      "正在將圖片傳送至 GPT...\n",
      "\n",
      "轉換結果：\n",
      "[\n",
      "    {\n",
      "        \"District\": \"臺北市\",\n",
      "        \"綠運輸\": 60.7,\n",
      "        \"公共運具\": 42.0,\n",
      "        \"非機動運具\": 18.8,\n",
      "        \"步行\": 15.3,\n",
      "        \"自行車\": 3.5,\n",
      "        \"私人機動運具\": 39.3,\n",
      "        \"最常公共運具使用率\": 51.7\n",
      "    },\n",
      "    {\n",
      "        \"District\": \"大安區\",\n",
      "        \"綠運輸\": 72.9,\n",
      "        \"公共運具\": 51.3,\n",
      "        \"非機動運具\": 21.6,\n",
      "        \"步行\": 17.7,\n",
      "        \"自行車\": 3.8,\n",
      "        \"私人機動運具\": 27.1,\n",
      "        \"最常公共運具使用率\": 62.1\n",
      "    },\n",
      "    {\n",
      "        \"District\": \"中正區\",\n",
      "        \"綠運輸\": 72.4,\n",
      "        \"公共運具\": 51.1,\n",
      "        \"非機動運具\": 21.3,\n",
      "        \"步行\": 17.7,\n",
      "        \"自行車\": 3.6,\n",
      "        \"私人機動運具\": 27.6,\n",
      "        \"最常公共運具使用率\": 66.5\n",
      "    },\n",
      "    {\n",
      "        \"District\": \"中山區\",\n",
      "        \"綠運輸\": 67.0,\n",
      "        \"公共運具\": 50.3,\n",
      "        \"非機動運具\": 16.7,\n",
      "        \"步行\": 12.7,\n",
      "        \"自行車\": 3.9,\n",
      "        \"私人機動運具\": 33.0,\n",
      "        \"最常公共運具使用率\": 52.7\n",
      "    },\n",
      "    {\n",
      "        \"District\": \"信義區\",\n",
      "        \"綠運輸\": 65.5,\n",
      "        \"公共運具\": 45.5,\n",
      "        \"非機動運具\": 20.0,\n",
      "        \"步行\": 17.1,\n",
      "        \"自行車\": 2.9,\n",
      "        \"私人機動運具\": 34.5,\n",
      "        \"最常公共運具使用率\": 51.4\n",
      "    },\n",
      "    {\n",
      "        \"District\": \"松山區\",\n",
      "        \"綠運輸\": 66.2,\n",
      "        \"公共運具\": 45.2,\n",
      "        \"非機動運具\": 21.0,\n",
      "        \"步行\": 17.6,\n",
      "        \"自行車\": 3.5,\n",
      "        \"私人機動運具\": 33.8,\n",
      "        \"最常公共運具使用率\": 58.6\n",
      "    },\n",
      "    {\n",
      "        \"District\": \"文山區\",\n",
      "        \"綠運輸\": 57.8,\n",
      "        \"公共運具\": 41.7,\n",
      "        \"非機動運具\": 16.1,\n",
      "        \"步行\": 12.7,\n",
      "        \"自行車\": 3.4,\n",
      "        \"私人機動運具\": 42.2,\n",
      "        \"最常公共運具使用率\": 48.3\n",
      "    },\n",
      "    {\n",
      "        \"District\": \"北投區\",\n",
      "        \"綠運輸\": 57.0,\n",
      "        \"公共運具\": 40.5,\n",
      "        \"非機動運具\": 16.5,\n",
      "        \"步行\": 12.1,\n",
      "        \"自行車\": 4.4,\n",
      "        \"私人機動運具\": 43.0,\n",
      "        \"最常公共運具使用率\": 51.1\n",
      "    },\n",
      "    {\n",
      "        \"District\": \"南港區\",\n",
      "        \"綠運輸\": 51.4,\n",
      "        \"公共運具\": 38.8,\n",
      "        \"非機動運具\": 12.7,\n",
      "        \"步行\": 11.2,\n",
      "        \"自行車\": 1.5,\n",
      "        \"私人機動運具\": 48.6,\n",
      "        \"最常公共運具使用率\": 48.0\n",
      "    },\n",
      "    {\n",
      "        \"District\": \"士林區\",\n",
      "        \"綠運輸\": 55.9,\n",
      "        \"公共運具\": 37.1,\n",
      "        \"非機動運具\": 18.7,\n",
      "        \"步行\": 16.6,\n",
      "        \"自行車\": 2.1,\n",
      "        \"私人機動運具\": 44.1,\n",
      "        \"最常公共運具使用率\": 46.3\n",
      "    },\n",
      "    {\n",
      "        \"District\": \"大同區\",\n",
      "        \"綠運輸\": 54.1,\n",
      "        \"公共運具\": 32.0,\n",
      "        \"非機動運具\": 22.0,\n",
      "        \"步行\": 18.5,\n",
      "        \"自行車\": 3.5,\n",
      "        \"私人機動運具\": 45.9,\n",
      "        \"最常公共運具使用率\": 44.2\n",
      "    },\n",
      "    {\n",
      "        \"District\": \"萬華區\",\n",
      "        \"綠運輸\": 45.3,\n",
      "        \"公共運具\": 32.0,\n",
      "        \"非機動運具\": 13.3,\n",
      "        \"步行\": 10.3,\n",
      "        \"自行車\": 3.1,\n",
      "        \"私人機動運具\": 54.7,\n",
      "        \"最常公共運具使用率\": 41.7\n",
      "    },\n",
      "    {\n",
      "        \"District\": \"內湖區\",\n",
      "        \"綠運輸\": 53.6,\n",
      "        \"公共運具\": 30.5,\n",
      "        \"非機動運具\": 23.1,\n",
      "        \"步行\": 17.9,\n",
      "        \"自行車\": 5.1,\n",
      "        \"私人機動運具\": 46.4,\n",
      "        \"最常公共運具使用率\": 48.1\n",
      "    }\n",
      "]\n",
      "JSON 表格已保存至 output_table.json\n"
     ]
    }
   ],
   "source": [
    "image_save_to_json(\"test.jpg\")"
   ]
  },
  {
   "cell_type": "markdown",
   "id": "a8d4b4bd-3384-4156-96d3-2ca928b1998b",
   "metadata": {},
   "source": [
    "## 將 json 檔案存入 VectorStore"
   ]
  },
  {
   "cell_type": "markdown",
   "id": "1b2ca33b-af70-4253-a146-209ff7948bb6",
   "metadata": {},
   "source": [
    "### 讀取 json 檔案\n",
    "https://python.langchain.com/docs/integrations/document_loaders/json/\n",
    "https://python.langchain.com/api_reference/core/vectorstores/langchain_core.vectorstores.in_memory.InMemoryVectorStore.html#langchain_core.vectorstores.in_memory.InMemoryVectorStore"
   ]
  },
  {
   "cell_type": "markdown",
   "id": "0bf1a7c3-d607-4414-8777-84816e2a1f37",
   "metadata": {},
   "source": [
    "#### 安裝 Library"
   ]
  },
  {
   "cell_type": "code",
   "execution_count": 8,
   "id": "78990fa3-7cb2-48da-879f-e2e5b37a6bb0",
   "metadata": {
    "collapsed": true,
    "jupyter": {
     "outputs_hidden": true,
     "source_hidden": true
    },
    "scrolled": true
   },
   "outputs": [
    {
     "name": "stdout",
     "output_type": "stream",
     "text": [
      "Defaulting to user installation because normal site-packages is not writeable\n",
      "Requirement already satisfied: langchain_community in /home/fei/.local/lib/python3.9/site-packages (0.3.14)\n",
      "Requirement already satisfied: jq in /home/fei/.local/lib/python3.9/site-packages (1.8.0)\n",
      "Requirement already satisfied: langchain-openai in /home/fei/.local/lib/python3.9/site-packages (0.3.0)\n",
      "Requirement already satisfied: langchain-core in /home/fei/.local/lib/python3.9/site-packages (0.3.29)\n",
      "Requirement already satisfied: pydantic-settings<3.0.0,>=2.4.0 in /home/fei/.local/lib/python3.9/site-packages (from langchain_community) (2.7.1)\n",
      "Requirement already satisfied: tenacity!=8.4.0,<10,>=8.1.0 in /home/fei/.local/lib/python3.9/site-packages (from langchain_community) (9.0.0)\n",
      "Requirement already satisfied: aiohttp<4.0.0,>=3.8.3 in /home/fei/.local/lib/python3.9/site-packages (from langchain_community) (3.11.11)\n",
      "Requirement already satisfied: SQLAlchemy<3,>=1.4 in /home/fei/.local/lib/python3.9/site-packages (from langchain_community) (2.0.37)\n",
      "Requirement already satisfied: langsmith<0.3,>=0.1.125 in /home/fei/.local/lib/python3.9/site-packages (from langchain_community) (0.2.10)\n",
      "Requirement already satisfied: requests<3,>=2 in /home/fei/.local/lib/python3.9/site-packages (from langchain_community) (2.32.3)\n",
      "Requirement already satisfied: PyYAML>=5.3 in /usr/lib64/python3.9/site-packages (from langchain_community) (5.4.1)\n",
      "Requirement already satisfied: langchain<0.4.0,>=0.3.14 in /home/fei/.local/lib/python3.9/site-packages (from langchain_community) (0.3.14)\n",
      "Requirement already satisfied: numpy<2,>=1.22.4 in /home/fei/.local/lib/python3.9/site-packages (from langchain_community) (1.26.4)\n",
      "Requirement already satisfied: httpx-sse<0.5.0,>=0.4.0 in /home/fei/.local/lib/python3.9/site-packages (from langchain_community) (0.4.0)\n",
      "Requirement already satisfied: dataclasses-json<0.7,>=0.5.7 in /home/fei/.local/lib/python3.9/site-packages (from langchain_community) (0.6.7)\n",
      "Requirement already satisfied: openai<2.0.0,>=1.58.1 in /home/fei/.local/lib/python3.9/site-packages (from langchain-openai) (1.59.5)\n",
      "Requirement already satisfied: tiktoken<1,>=0.7 in /home/fei/.local/lib/python3.9/site-packages (from langchain-openai) (0.8.0)\n",
      "Requirement already satisfied: packaging<25,>=23.2 in /home/fei/.local/lib/python3.9/site-packages (from langchain-core) (24.2)\n",
      "Requirement already satisfied: typing-extensions>=4.7 in /home/fei/.local/lib/python3.9/site-packages (from langchain-core) (4.12.2)\n",
      "Requirement already satisfied: jsonpatch<2.0,>=1.33 in /home/fei/.local/lib/python3.9/site-packages (from langchain-core) (1.33)\n",
      "Requirement already satisfied: pydantic<3.0.0,>=2.5.2 in /home/fei/.local/lib/python3.9/site-packages (from langchain-core) (2.10.4)\n",
      "Requirement already satisfied: yarl<2.0,>=1.17.0 in /home/fei/.local/lib/python3.9/site-packages (from aiohttp<4.0.0,>=3.8.3->langchain_community) (1.18.3)\n",
      "Requirement already satisfied: multidict<7.0,>=4.5 in /home/fei/.local/lib/python3.9/site-packages (from aiohttp<4.0.0,>=3.8.3->langchain_community) (6.1.0)\n",
      "Requirement already satisfied: frozenlist>=1.1.1 in /home/fei/.local/lib/python3.9/site-packages (from aiohttp<4.0.0,>=3.8.3->langchain_community) (1.5.0)\n",
      "Requirement already satisfied: aiosignal>=1.1.2 in /home/fei/.local/lib/python3.9/site-packages (from aiohttp<4.0.0,>=3.8.3->langchain_community) (1.3.2)\n",
      "Requirement already satisfied: propcache>=0.2.0 in /home/fei/.local/lib/python3.9/site-packages (from aiohttp<4.0.0,>=3.8.3->langchain_community) (0.2.1)\n",
      "Requirement already satisfied: async-timeout<6.0,>=4.0 in /home/fei/.local/lib/python3.9/site-packages (from aiohttp<4.0.0,>=3.8.3->langchain_community) (4.0.3)\n",
      "Requirement already satisfied: aiohappyeyeballs>=2.3.0 in /home/fei/.local/lib/python3.9/site-packages (from aiohttp<4.0.0,>=3.8.3->langchain_community) (2.4.4)\n",
      "Requirement already satisfied: attrs>=17.3.0 in /home/fei/.local/lib/python3.9/site-packages (from aiohttp<4.0.0,>=3.8.3->langchain_community) (24.3.0)\n",
      "Requirement already satisfied: typing-inspect<1,>=0.4.0 in /home/fei/.local/lib/python3.9/site-packages (from dataclasses-json<0.7,>=0.5.7->langchain_community) (0.9.0)\n",
      "Requirement already satisfied: marshmallow<4.0.0,>=3.18.0 in /home/fei/.local/lib/python3.9/site-packages (from dataclasses-json<0.7,>=0.5.7->langchain_community) (3.25.1)\n",
      "Requirement already satisfied: jsonpointer>=1.9 in /home/fei/.local/lib/python3.9/site-packages (from jsonpatch<2.0,>=1.33->langchain-core) (3.0.0)\n",
      "Requirement already satisfied: langchain-text-splitters<0.4.0,>=0.3.3 in /home/fei/.local/lib/python3.9/site-packages (from langchain<0.4.0,>=0.3.14->langchain_community) (0.3.5)\n",
      "Requirement already satisfied: orjson<4.0.0,>=3.9.14 in /home/fei/.local/lib/python3.9/site-packages (from langsmith<0.3,>=0.1.125->langchain_community) (3.10.14)\n",
      "Requirement already satisfied: requests-toolbelt<2.0.0,>=1.0.0 in /home/fei/.local/lib/python3.9/site-packages (from langsmith<0.3,>=0.1.125->langchain_community) (1.0.0)\n",
      "Requirement already satisfied: httpx<1,>=0.23.0 in /home/fei/.local/lib/python3.9/site-packages (from langsmith<0.3,>=0.1.125->langchain_community) (0.28.1)\n",
      "Requirement already satisfied: anyio<5,>=3.5.0 in /home/fei/.local/lib/python3.9/site-packages (from openai<2.0.0,>=1.58.1->langchain-openai) (4.8.0)\n",
      "Requirement already satisfied: distro<2,>=1.7.0 in /home/fei/.local/lib/python3.9/site-packages (from openai<2.0.0,>=1.58.1->langchain-openai) (1.9.0)\n",
      "Requirement already satisfied: tqdm>4 in /home/fei/.local/lib/python3.9/site-packages (from openai<2.0.0,>=1.58.1->langchain-openai) (4.67.1)\n",
      "Requirement already satisfied: sniffio in /home/fei/.local/lib/python3.9/site-packages (from openai<2.0.0,>=1.58.1->langchain-openai) (1.3.1)\n",
      "Requirement already satisfied: jiter<1,>=0.4.0 in /home/fei/.local/lib/python3.9/site-packages (from openai<2.0.0,>=1.58.1->langchain-openai) (0.8.2)\n",
      "Requirement already satisfied: annotated-types>=0.6.0 in /home/fei/.local/lib/python3.9/site-packages (from pydantic<3.0.0,>=2.5.2->langchain-core) (0.7.0)\n",
      "Requirement already satisfied: pydantic-core==2.27.2 in /home/fei/.local/lib/python3.9/site-packages (from pydantic<3.0.0,>=2.5.2->langchain-core) (2.27.2)\n",
      "Requirement already satisfied: python-dotenv>=0.21.0 in /home/fei/.local/lib/python3.9/site-packages (from pydantic-settings<3.0.0,>=2.4.0->langchain_community) (1.0.1)\n",
      "Requirement already satisfied: idna<4,>=2.5 in /usr/lib/python3.9/site-packages (from requests<3,>=2->langchain_community) (2.10)\n",
      "Requirement already satisfied: certifi>=2017.4.17 in /home/fei/.local/lib/python3.9/site-packages (from requests<3,>=2->langchain_community) (2024.12.14)\n",
      "Requirement already satisfied: urllib3<3,>=1.21.1 in /home/fei/.local/lib/python3.9/site-packages (from requests<3,>=2->langchain_community) (2.3.0)\n",
      "Requirement already satisfied: charset-normalizer<4,>=2 in /home/fei/.local/lib/python3.9/site-packages (from requests<3,>=2->langchain_community) (3.4.1)\n",
      "Requirement already satisfied: greenlet!=0.4.17 in /home/fei/.local/lib/python3.9/site-packages (from SQLAlchemy<3,>=1.4->langchain_community) (3.1.1)\n",
      "Requirement already satisfied: regex>=2022.1.18 in /home/fei/.local/lib/python3.9/site-packages (from tiktoken<1,>=0.7->langchain-openai) (2024.11.6)\n",
      "Requirement already satisfied: exceptiongroup>=1.0.2 in /home/fei/.local/lib/python3.9/site-packages (from anyio<5,>=3.5.0->openai<2.0.0,>=1.58.1->langchain-openai) (1.2.2)\n",
      "Requirement already satisfied: httpcore==1.* in /home/fei/.local/lib/python3.9/site-packages (from httpx<1,>=0.23.0->langsmith<0.3,>=0.1.125->langchain_community) (1.0.7)\n",
      "Requirement already satisfied: h11<0.15,>=0.13 in /home/fei/.local/lib/python3.9/site-packages (from httpcore==1.*->httpx<1,>=0.23.0->langsmith<0.3,>=0.1.125->langchain_community) (0.14.0)\n",
      "Requirement already satisfied: mypy-extensions>=0.3.0 in /home/fei/.local/lib/python3.9/site-packages (from typing-inspect<1,>=0.4.0->dataclasses-json<0.7,>=0.5.7->langchain_community) (1.0.0)\n"
     ]
    }
   ],
   "source": [
    "! pip install langchain_community jq langchain-openai langchain-core"
   ]
  },
  {
   "cell_type": "markdown",
   "id": "1ca5f75b-1972-424e-a5d8-841d5c99db8d",
   "metadata": {},
   "source": [
    "#### 載入類別"
   ]
  },
  {
   "cell_type": "code",
   "execution_count": 9,
   "id": "8bdbe8a8-0be7-442b-b163-1546f9571d3c",
   "metadata": {
    "jupyter": {
     "source_hidden": true
    }
   },
   "outputs": [],
   "source": [
    "import os, json\n",
    "from dotenv import load_dotenv, find_dotenv\n",
    "from langchain_community.document_loaders import JSONLoader\n",
    "from langchain_openai import AzureOpenAIEmbeddings\n",
    "from langchain_core.vectorstores import InMemoryVectorStore"
   ]
  },
  {
   "cell_type": "markdown",
   "id": "cb312c2c-2a92-4450-b8e5-a15cff088b61",
   "metadata": {},
   "source": [
    "#### 讀取 env"
   ]
  },
  {
   "cell_type": "code",
   "execution_count": 10,
   "id": "646d4733-b618-4682-85dc-c615ccb520b8",
   "metadata": {
    "jupyter": {
     "source_hidden": true
    }
   },
   "outputs": [],
   "source": [
    "_ = load_dotenv(find_dotenv())\n",
    "\n",
    "wits_gpt_endpoint = os.getenv(\"WITS_GPT_ENDPOINT\")\n",
    "wits_gpt_apikey = os.getenv(\"WITS_GPT_API_KEY\")\n",
    "wits_gpt_apiversion = os.getenv(\"WITS_GPT_API_VERSION\")\n",
    "wits_gpt_model = os.getenv(\"WITS_GPT_MODEL\")\n",
    "\n",
    "wits_embedding_endpoint = os.getenv(\"WITS_EMBEDDING_ENDPOINT\")\n",
    "wits_embedding_apikey = os.getenv(\"WITS_EMBEDDING_API_KEY\")\n",
    "wits_embedding_apiversion = os.getenv(\"WITS_EMBEDDING_API_VERSION\")\n",
    "wits_embedding_model = os.getenv(\"WITS_EMBEDDING_MODEL\")"
   ]
  },
  {
   "cell_type": "markdown",
   "id": "1562537a-6e22-40d6-8a9e-5837bf735f25",
   "metadata": {},
   "source": [
    "#### 定義 function"
   ]
  },
  {
   "cell_type": "markdown",
   "id": "e32122aa-5589-4cee-862f-48d84e3d6b0b",
   "metadata": {},
   "source": [
    "##### 初始化 JSONLoader"
   ]
  },
  {
   "cell_type": "code",
   "execution_count": 11,
   "id": "b5c5f459-aadb-46cd-bee5-53f0878b207f",
   "metadata": {
    "jupyter": {
     "source_hidden": true
    }
   },
   "outputs": [],
   "source": [
    "def init_jsonloader(json_path):\n",
    "    def metadata_func(record: dict, metadata: dict) -> dict:\n",
    "        metadata = record\n",
    "        return metadata\n",
    "        \n",
    "    return JSONLoader(\n",
    "        file_path=json_path,\n",
    "        jq_schema='.[]',\n",
    "        content_key='.District',\n",
    "        is_content_key_jq_parsable=True,\n",
    "        text_content=False,\n",
    "        metadata_func=metadata_func\n",
    "    )"
   ]
  },
  {
   "cell_type": "markdown",
   "id": "ce4f15c5-6e20-4a9f-805f-39a4212d12cf",
   "metadata": {},
   "source": [
    "##### 初始化 Embeddings"
   ]
  },
  {
   "cell_type": "code",
   "execution_count": 12,
   "id": "f66846b1-53e7-4275-85b0-88fc4315554e",
   "metadata": {
    "jupyter": {
     "source_hidden": true
    }
   },
   "outputs": [],
   "source": [
    "def init_embeddings():\n",
    "    return AzureOpenAIEmbeddings(\n",
    "        azure_endpoint=wits_embedding_endpoint,\n",
    "        azure_deployment=wits_embedding_model,\n",
    "        openai_api_version=wits_embedding_apiversion,\n",
    "        api_key=wits_embedding_apikey\n",
    "    )"
   ]
  },
  {
   "cell_type": "markdown",
   "id": "deb0f792-75fe-4843-a66f-2244a7add7cc",
   "metadata": {},
   "source": [
    "##### 初始化 InMemoryVectorStore"
   ]
  },
  {
   "cell_type": "code",
   "execution_count": 13,
   "id": "4430130c-27bc-4e53-a031-b65d602a7b88",
   "metadata": {
    "jupyter": {
     "source_hidden": true
    }
   },
   "outputs": [],
   "source": [
    "def init_vectorstore(embeddings):\n",
    "    return InMemoryVectorStore(embeddings)"
   ]
  },
  {
   "cell_type": "markdown",
   "id": "917e0ef1-513a-44ae-9110-78a859b97597",
   "metadata": {},
   "source": [
    "#### 執行載入 JSON 並存入 VectorStore"
   ]
  },
  {
   "cell_type": "code",
   "execution_count": 14,
   "id": "54a9dc34-144d-4b4e-af83-44cc2bbdac6e",
   "metadata": {
    "jupyter": {
     "source_hidden": true
    },
    "scrolled": true
   },
   "outputs": [
    {
     "data": {
      "text/plain": [
       "['4c438f2a-03f9-48ac-b6a5-3b2d670ceed8',\n",
       " '4cf9ec26-5908-4569-81aa-932fe6574748',\n",
       " '7ea6e7ce-8d49-4ec4-a008-138bb77bbef2',\n",
       " '1502f7bd-5f3c-4b33-b06a-0f8966d55800',\n",
       " '78cb44f8-214a-4562-86da-c509bda104f7',\n",
       " 'adf80abc-b7a8-4fbe-ba09-e7a4440e63f6',\n",
       " 'a9ead91a-39ba-4d8f-9b8e-bb032830dea3',\n",
       " '661eb8e7-0524-45f9-9745-8a964a6b2064',\n",
       " '422f481d-7f85-42d0-8201-d3910e585a79',\n",
       " 'f9f3075a-2d9d-4ed6-a278-312cd0506edd',\n",
       " '72a2efe6-8ebf-4a30-b0f2-525c3d6a0cdf',\n",
       " 'a7a7629d-a0f5-4ed7-b665-c09388dfb7ef',\n",
       " '7936d5c8-c5a0-4733-a6a3-e591c2b419f8']"
      ]
     },
     "execution_count": 14,
     "metadata": {},
     "output_type": "execute_result"
    }
   ],
   "source": [
    "loader = init_jsonloader('output_table.json')\n",
    "documents = loader.load()\n",
    "embeddings = init_embeddings()\n",
    "vector_store = init_vectorstore(embeddings)\n",
    "vector_store.add_documents(documents)"
   ]
  },
  {
   "cell_type": "markdown",
   "id": "74733887-f450-4941-8cb9-59d152b68dcc",
   "metadata": {},
   "source": [
    "# Chat Bot"
   ]
  },
  {
   "cell_type": "markdown",
   "id": "63fab0b1-7a55-4a95-ac82-b16e0d24d5c3",
   "metadata": {},
   "source": [
    "step 2 . user 打的問題 -> 轉向量 -> 向量資料庫比對抓出最接近的資料 -> 塞prompt 給語言模型 -> 回應給user"
   ]
  },
  {
   "cell_type": "markdown",
   "id": "28297851-85f7-4cfa-9978-1060e589dd64",
   "metadata": {},
   "source": [
    "## 安裝 Library"
   ]
  },
  {
   "cell_type": "code",
   "execution_count": 15,
   "id": "d1ba5882-875a-488e-81f3-e8683690ab3f",
   "metadata": {
    "jupyter": {
     "source_hidden": true
    }
   },
   "outputs": [],
   "source": [
    "! pip install langchain-core langgraph>0.2.27 langchain-openai"
   ]
  },
  {
   "cell_type": "markdown",
   "id": "dcfdf1cc-bbbe-46c2-bc63-089e8972cea9",
   "metadata": {},
   "source": [
    "## 載入類別"
   ]
  },
  {
   "cell_type": "code",
   "execution_count": 16,
   "id": "e1b1e33b-05d4-4890-ac80-eaa45fef7047",
   "metadata": {
    "jupyter": {
     "source_hidden": true
    }
   },
   "outputs": [],
   "source": [
    "import os\n",
    "from dotenv import load_dotenv, find_dotenv\n",
    "from langchain_openai import AzureChatOpenAI\n",
    "from langchain_core.prompts import ChatPromptTemplate, MessagesPlaceholder\n",
    "from langchain_core.prompts.chat import ChatPromptTemplate\n",
    "from langchain_core.messages import BaseMessage, SystemMessage, HumanMessage, AIMessage, ToolMessage, trim_messages, filter_messages\n",
    "from langgraph.checkpoint.memory import MemorySaver\n",
    "from langchain.tools import tool\n",
    "from langgraph.prebuilt import create_react_agent\n",
    "from IPython.display import Image, display\n",
    "from langchain_core.documents import Document\n",
    "from typing_extensions import List, TypedDict, Dict\n",
    "from langgraph.graph import START, END, MessagesState, StateGraph\n",
    "from langgraph.prebuilt import ToolNode, tools_condition"
   ]
  },
  {
   "cell_type": "markdown",
   "id": "15ada8cd-1a46-4bbe-88c3-60dcb089bb11",
   "metadata": {},
   "source": [
    "## 讀取 env"
   ]
  },
  {
   "cell_type": "code",
   "execution_count": 17,
   "id": "f797635c-a552-4853-b19a-c1418d2d5623",
   "metadata": {
    "jupyter": {
     "source_hidden": true
    }
   },
   "outputs": [],
   "source": [
    "_ = load_dotenv(find_dotenv())\n",
    "\n",
    "wits_gpt_endpoint = os.getenv(\"WITS_GPT_ENDPOINT\")\n",
    "wits_gpt_apikey = os.getenv(\"WITS_GPT_API_KEY\")\n",
    "wits_gpt_apiversion = os.getenv(\"WITS_GPT_API_VERSION\")\n",
    "wits_gpt_model = os.getenv(\"WITS_GPT_MODEL\")\n",
    "\n",
    "wits_embedding_endpoint = os.getenv(\"WITS_EMBEDDING_ENDPOINT\")\n",
    "wits_embedding_apikey = os.getenv(\"WITS_EMBEDDING_API_KEY\")\n",
    "wits_embedding_apiversion = os.getenv(\"WITS_EMBEDDING_API_VERSION\")\n",
    "wits_embedding_model = os.getenv(\"WITS_EMBEDDING_MODEL\")"
   ]
  },
  {
   "cell_type": "markdown",
   "id": "e3be3e62-dcb0-4cce-8d27-a7e8ae85e0a9",
   "metadata": {},
   "source": [
    "## 定義 function"
   ]
  },
  {
   "cell_type": "markdown",
   "id": "0686635c-d323-42e3-b8ce-fc79ed7af810",
   "metadata": {},
   "source": [
    "### 初始化 LLM"
   ]
  },
  {
   "cell_type": "code",
   "execution_count": 18,
   "id": "52bcc976-3578-4fd2-b9bd-5027656edd70",
   "metadata": {
    "jupyter": {
     "source_hidden": true
    }
   },
   "outputs": [],
   "source": [
    "def init_llm():\n",
    "    return AzureChatOpenAI(\n",
    "        azure_endpoint=wits_gpt_endpoint,\n",
    "        openai_api_key=wits_gpt_apikey,\n",
    "        api_version=wits_gpt_apiversion,\n",
    "        azure_deployment=wits_gpt_model\n",
    "    )"
   ]
  },
  {
   "cell_type": "markdown",
   "id": "de102af1-3bff-425d-a6de-0ad80f2f2958",
   "metadata": {},
   "source": [
    "### 資料查詢工具"
   ]
  },
  {
   "cell_type": "code",
   "execution_count": 19,
   "id": "a4d2b86b-d633-41c1-9ef4-3eb65c10ea79",
   "metadata": {
    "jupyter": {
     "source_hidden": true
    }
   },
   "outputs": [],
   "source": [
    "@tool\n",
    "def query_market_share(district: str):\n",
    "    \"\"\"\n",
    "    這個工具會查詢臺北行政區的運具類別市占率。\n",
    "    Args:\n",
    "        district (str): 臺北行政區\n",
    "    Returns:\n",
    "        List[Document]: 運具類別市占率\n",
    "    \"\"\"\n",
    "    print(f' > tool: query_or_respond_node ({district})')\n",
    "    result = vector_store.similarity_search(district, k=1)\n",
    "    return result"
   ]
  },
  {
   "cell_type": "markdown",
   "id": "8cb7ed37-ffc4-4c68-8cfe-58204b432e80",
   "metadata": {},
   "source": [
    "### 初始化 Graph"
   ]
  },
  {
   "cell_type": "markdown",
   "id": "ef7a0906-e68f-4a15-8fa2-a6eae2e95dbe",
   "metadata": {},
   "source": [
    "#### 定義節點"
   ]
  },
  {
   "cell_type": "markdown",
   "id": "2f8ae6e3-2ef5-40be-965f-9f4aaed4bad0",
   "metadata": {},
   "source": [
    "##### query_or_respond"
   ]
  },
  {
   "cell_type": "code",
   "execution_count": 20,
   "id": "f671f503-43c0-4104-8d2b-7901c1e710f5",
   "metadata": {
    "jupyter": {
     "source_hidden": true
    }
   },
   "outputs": [],
   "source": [
    "def query_or_respond_node(state: MessagesState):\n",
    "    \"\"\"產生用於檢索或回應的工具呼叫。\"\"\"\n",
    "    print(' > query_or_respond_node')\n",
    "    trimmed_messages = trim_messages(\n",
    "        state[\"messages\"],\n",
    "        strategy=\"last\",\n",
    "        token_counter=len,\n",
    "        max_tokens=10,\n",
    "        start_on=\"human\",\n",
    "        end_on=(\"human\", \"tool\"),\n",
    "        include_system=True,\n",
    "    )\n",
    "    prompt = ChatPromptTemplate.from_messages(\n",
    "        [\n",
    "            SystemMessage(\"你是助手。最多使用五個句子回答，以保持回答簡潔。\"),\n",
    "            MessagesPlaceholder(variable_name=\"messages\")\n",
    "        ]\n",
    "    )\n",
    "    llm = init_llm()\n",
    "    llm_with_tools = llm.bind_tools([query_market_share])\n",
    "    chain = prompt | llm_with_tools\n",
    "    response = chain.invoke(trimmed_messages)\n",
    "    return {\"messages\": [response]}"
   ]
  },
  {
   "cell_type": "markdown",
   "id": "22de22d9-9411-48b9-89a2-f8a990c4e4bb",
   "metadata": {},
   "source": [
    "##### generate"
   ]
  },
  {
   "cell_type": "code",
   "execution_count": 21,
   "id": "9fecf930-74b2-442c-a632-276c21c9236f",
   "metadata": {
    "jupyter": {
     "source_hidden": true
    }
   },
   "outputs": [],
   "source": [
    "def generate_node(state: MessagesState):\n",
    "    \"\"\"生成答案\"\"\"\n",
    "    print(f' > generate_node')\n",
    "    llm = init_llm()\n",
    "    # 取得生成的 ToolMessages\n",
    "    recent_tool_messages = []\n",
    "    for message in reversed(state[\"messages\"]):\n",
    "        if message.type == \"tool\":\n",
    "            recent_tool_messages.append(message)\n",
    "        else:\n",
    "            break\n",
    "    tool_messages = recent_tool_messages[::-1]\n",
    "\n",
    "    # 格式化為 Prompt\n",
    "    docs_content = \"\\n\\n\".join(doc.content for doc in tool_messages)\n",
    "    system_message_content = f'''\n",
    "    你是負責問答任務的助手。使用以下檢索到的上下文來回答問題。如果你不知道答案，就說你不知道。最多使用五個句子回答，以保持回答簡潔。\n",
    "\n",
    "    {docs_content}\n",
    "    '''\n",
    "    conversation_messages = [\n",
    "        message\n",
    "        for message in state[\"messages\"]\n",
    "        if message.type in (\"human\", \"system\")\n",
    "        or (message.type == \"ai\" and not message.tool_calls)\n",
    "    ]\n",
    "    prompt = [SystemMessage(system_message_content)] + conversation_messages\n",
    "\n",
    "    # Run\n",
    "    response = llm.invoke(prompt)\n",
    "    return {\"messages\": [response]}"
   ]
  },
  {
   "cell_type": "markdown",
   "id": "5c602f3a-72c4-471a-a856-4f467f699781",
   "metadata": {},
   "source": [
    "#### 定義初始化"
   ]
  },
  {
   "cell_type": "code",
   "execution_count": 22,
   "id": "4b7bb00e-1750-4fc2-acf9-4b04a2c0852c",
   "metadata": {
    "jupyter": {
     "source_hidden": true
    }
   },
   "outputs": [],
   "source": [
    "def init_state_graph():\n",
    "    tools = ToolNode([query_market_share])\n",
    "    graph = StateGraph(state_schema=MessagesState)\n",
    "    graph.set_entry_point('query_or_respond')\n",
    "    graph.add_conditional_edges(\n",
    "        'query_or_respond',\n",
    "        tools_condition,\n",
    "        {END: END, 'tools': 'tools'},\n",
    "    )\n",
    "    graph.add_edge('tools', 'generate')\n",
    "    graph.add_edge('generate', END)\n",
    "    graph.add_node('query_or_respond', query_or_respond_node)\n",
    "    graph.add_node('tools', tools)\n",
    "    graph.add_node('generate', generate_node)\n",
    "    memory = MemorySaver()\n",
    "    return graph.compile(checkpointer=memory)"
   ]
  },
  {
   "cell_type": "markdown",
   "id": "4c65fbc4-b2ea-454f-bd9a-4b560a34dfa3",
   "metadata": {},
   "source": [
    "## 開始聊天  "
   ]
  },
  {
   "cell_type": "code",
   "execution_count": 23,
   "id": "388b63df-641c-4905-9169-ad1bc3aac843",
   "metadata": {
    "jupyter": {
     "source_hidden": true
    },
    "scrolled": true
   },
   "outputs": [
    {
     "data": {
      "image/png": "[encoded data removed]",
      "text/plain": [
       "<IPython.core.display.Image object>"
      ]
     },
     "metadata": {},
     "output_type": "display_data"
    }
   ],
   "source": [
    "graph = init_state_graph()\n",
    "config = {\"configurable\": {\"thread_id\": \"test_thread\"}}\n",
    "\n",
    "display(Image(graph.get_graph().draw_mermaid_png()))"
   ]
  },
  {
   "cell_type": "markdown",
   "id": "c9242932-6501-4a73-91e4-7a2a94606077",
   "metadata": {},
   "source": [
    "### 詢問助手能做什麼"
   ]
  },
  {
   "cell_type": "code",
   "execution_count": 24,
   "id": "72a438dd-4349-4645-9cb0-a588d9dfb95f",
   "metadata": {
    "jupyter": {
     "source_hidden": true
    }
   },
   "outputs": [
    {
     "name": "stdout",
     "output_type": "stream",
     "text": [
      " > query_or_respond_node\n",
      "==================================\u001b[1m Ai Message \u001b[0m==================================\n",
      "\n",
      "我可以協助回答您的問題、提供建議，或者查詢臺北各行政區運具類別的市占率。如果需要這方面的資料，可以提供行政區名稱，我就能幫助您查詢。\n"
     ]
    }
   ],
   "source": [
    "query = \"你能做什麼呢？\"\n",
    "input_messages = [HumanMessage(query)]\n",
    "output = graph.invoke({\"messages\": input_messages}, config)\n",
    "output['messages'][-1].pretty_print()"
   ]
  },
  {
   "cell_type": "markdown",
   "id": "e86f1acb-e62c-4d3c-aed1-07eeb3ce8a2c",
   "metadata": {},
   "source": [
    "### 詢問大安步行及大同自行車的市佔率"
   ]
  },
  {
   "cell_type": "code",
   "execution_count": 25,
   "id": "2fc385d1-ec81-4826-9980-85fd9a098cd9",
   "metadata": {
    "jupyter": {
     "source_hidden": true
    }
   },
   "outputs": [
    {
     "name": "stdout",
     "output_type": "stream",
     "text": [
      " > query_or_respond_node\n",
      " > tool: query_or_respond_node (大安)\n",
      " > tool: query_or_respond_node (大同)\n",
      " > generate_node\n",
      "==================================\u001b[1m Ai Message \u001b[0m==================================\n",
      "\n",
      "根據資料，**大安區的步行市佔率為17.7%**，而**大同區的自行車市佔率為3.5%**。\n"
     ]
    }
   ],
   "source": [
    "query = \"查詢大安步行及大同自行車的市佔率。\"\n",
    "input_messages = [HumanMessage(query)]\n",
    "output = graph.invoke({\"messages\": input_messages}, config)\n",
    "output['messages'][-1].pretty_print()"
   ]
  },
  {
   "cell_type": "markdown",
   "id": "2ebe84f8-67aa-4e7c-b216-3a8037a61007",
   "metadata": {},
   "source": [
    "### 詢問松山跟信義的步行市佔率加總"
   ]
  },
  {
   "cell_type": "code",
   "execution_count": 26,
   "id": "f6d4ee08-51de-406e-923e-c76557fc8b27",
   "metadata": {
    "jupyter": {
     "source_hidden": true
    }
   },
   "outputs": [
    {
     "name": "stdout",
     "output_type": "stream",
     "text": [
      " > query_or_respond_node\n",
      " > tool: query_or_respond_node (松山)\n",
      " > tool: query_or_respond_node (信義)\n",
      " > generate_node\n",
      "==================================\u001b[1m Ai Message \u001b[0m==================================\n",
      "\n",
      "松山區的步行市佔率是17.6%，信義區的步行市佔率是17.1%。加總起來為**34.7%**。\n"
     ]
    }
   ],
   "source": [
    "query = \"松山跟信義的步行市佔率加總是多少？\"\n",
    "input_messages = [HumanMessage(query)]\n",
    "output = graph.invoke({\"messages\": input_messages}, config)\n",
    "output['messages'][-1].pretty_print()"
   ]
  },
  {
   "cell_type": "markdown",
   "id": "afc152e2-f276-400b-83c4-4c151dc2c658",
   "metadata": {},
   "source": [
    "### 詢問我說過的話"
   ]
  },
  {
   "cell_type": "code",
   "execution_count": 27,
   "id": "46c0571b-a188-4726-87d4-22d1255dd05a",
   "metadata": {
    "jupyter": {
     "source_hidden": true
    }
   },
   "outputs": [
    {
     "name": "stdout",
     "output_type": "stream",
     "text": [
      " > query_or_respond_node\n",
      "==================================\u001b[1m Ai Message \u001b[0m==================================\n",
      "\n",
      "1. 「松山跟信義的步行市佔率加總是多少？」  \n",
      "2. 「列出我說過的話。」\n"
     ]
    }
   ],
   "source": [
    "query = \"列出我說過的話。\"\n",
    "input_messages = [HumanMessage(query)]\n",
    "output = graph.invoke({\"messages\": input_messages}, config)\n",
    "output['messages'][-1].pretty_print()"
   ]
  }
 ],
 "metadata": {
  "kernelspec": {
   "display_name": "Python 3 (ipykernel)",
   "language": "python",
   "name": "python3"
  },
  "language_info": {
   "codemirror_mode": {
    "name": "ipython",
    "version": 3
   },
   "file_extension": ".py",
   "mimetype": "text/x-python",
   "name": "python",
   "nbconvert_exporter": "python",
   "pygments_lexer": "ipython3",
   "version": "3.9.21"
  }
 },
 "nbformat": 4,
 "nbformat_minor": 5
}
